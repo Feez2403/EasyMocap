{
 "cells": [
  {
   "cell_type": "code",
   "execution_count": 6,
   "metadata": {},
   "outputs": [
    {
     "name": "stderr",
     "output_type": "stream",
     "text": [
      "100%|██████████| 300/300 [01:08<00:00,  4.38it/s]\n"
     ]
    },
    {
     "data": {
      "text/plain": [
       "<Figure size 1000x1000 with 0 Axes>"
      ]
     },
     "metadata": {},
     "output_type": "display_data"
    }
   ],
   "source": [
    "import numpy as np\n",
    "from easymocap.mytools.camera_utils import write_camera, read_camera\n",
    "import json\n",
    "import cv2\n",
    "import os\n",
    "import matplotlib.pyplot as plt\n",
    "from tqdm import tqdm\n",
    "\n",
    "folder = 'data/wildtrack/'\n",
    "output_k3d_folder = 'output/wildtrack/output-keypoints3d_raw/keypoints3d_raw/'\n",
    "\n",
    "subfolder_labels = os.path.join(folder, 'output-keypoints3d/label')\n",
    "pids = [0,1,2,3,7,9,10]\n",
    "# join the masks together and invert them\n",
    "cameras = read_camera(\"data/wildtrack/intri.yml\", \"data/wildtrack/extri.yml\", [1,2,3,4,5,6,7])\n",
    "\n",
    "def load_mask(path):\n",
    "    return cv2.imread(path, cv2.IMREAD_GRAYSCALE)\n",
    "\n",
    "def save_mask(mask, label_path, pid, cam, frame):\n",
    "    os.makedirs(os.path.join(label_path, cam), exist_ok=True)\n",
    "    path = os.path.join(label_path, cam, frame + \"_\" + str(pid) + \".png\")\n",
    "    cv2.imwrite(path, mask)\n",
    "    \n",
    "kintree = [[ 1,  0],\n",
    "[ 2,  1],\n",
    "[ 3,  2],\n",
    "[ 4,  3],\n",
    "[ 5,  1],\n",
    "[ 6,  5],\n",
    "[ 7,  6],\n",
    "[ 8,  1],\n",
    "[ 9,  8],\n",
    "[10,  9],\n",
    "[11, 10],\n",
    "[12,  8],\n",
    "[13, 12],\n",
    "[14, 13],\n",
    "[15,  0],\n",
    "[16,  0],\n",
    "[17, 15],\n",
    "[18, 16],\n",
    "[19, 14],\n",
    "[20, 19],\n",
    "[21, 14],\n",
    "[22, 11],\n",
    "[23, 22],\n",
    "[24, 11]]\n",
    "\n",
    "\n",
    "plt.figure(figsize=(10, 10))\n",
    "\n",
    "for file in tqdm(os.listdir(output_k3d_folder)):\n",
    "    file_path = os.path.join(output_k3d_folder, file)\n",
    "    with open(file_path) as f:\n",
    "        keypoints = json.load(f)\n",
    "    all_kp3d = np.array(keypoints)\n",
    "    \n",
    "    for person in all_kp3d:\n",
    "        for cam in cameras[\"basenames\"]:\n",
    "            P = cameras[cam]['P']\n",
    "            label_img = np.zeros((1080, 1920, 1), dtype=np.uint8)\n",
    "            pid = person['id']\n",
    "            \n",
    "            kp3s = person['keypoints3d']\n",
    "            \n",
    "            for j1,j2 in kintree:\n",
    "                x1, y1, z1, prob1 = kp3s[j1]\n",
    "                x2, y2, z2, prob2 = kp3s[j2]\n",
    "                \n",
    "                xy1 = np.dot(P, np.array([x1, y1, z1, 1]))\n",
    "                xy2 = np.dot(P, np.array([x2, y2, z2, 1]))\n",
    "                xy1 = xy1[:2] / xy1[2]\n",
    "                xy2 = xy2[:2] / xy2[2]\n",
    "                xy1 = xy1.astype(int)\n",
    "                xy2 = xy2.astype(int)\n",
    "                prob = (prob1 + prob2) / 2 if prob1 > 0 and prob2 > 0 else 0\n",
    "                if prob > 0:\n",
    "                    cv2.line(label_img, (xy1[0], xy1[1]), (xy2[0], xy2[1]), int(prob * 255), 10)\n",
    "            save_mask(label_img, subfolder_labels, pid, cam, file.split('.')[0])\n",
    "\n",
    "            \n",
    "        \n",
    "    "
   ]
  }
 ],
 "metadata": {
  "kernelspec": {
   "display_name": "easymocap",
   "language": "python",
   "name": "python3"
  },
  "language_info": {
   "codemirror_mode": {
    "name": "ipython",
    "version": 3
   },
   "file_extension": ".py",
   "mimetype": "text/x-python",
   "name": "python",
   "nbconvert_exporter": "python",
   "pygments_lexer": "ipython3",
   "version": "3.9.19"
  }
 },
 "nbformat": 4,
 "nbformat_minor": 2
}
