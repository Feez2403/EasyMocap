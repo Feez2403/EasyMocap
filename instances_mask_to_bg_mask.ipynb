{
 "cells": [
  {
   "cell_type": "code",
   "execution_count": 3,
   "metadata": {},
   "outputs": [
    {
     "name": "stderr",
     "output_type": "stream",
     "text": [
      "100%|██████████| 7/7 [01:54<00:00, 16.38s/it]\n"
     ]
    }
   ],
   "source": [
    "import os\n",
    "folder = 'data/wildtrack'\n",
    "\n",
    "subfolder_instances_masks = os.path.join(folder, 'output-smpl-3d/instance')\n",
    "subfolder_output = os.path.join(folder, 'output-keypoints3d/label')\n",
    "\n",
    "pids = [0,1,2,3,7,9,10]\n",
    "# join the masks together and invert them\n",
    "\n",
    "\n",
    "import numpy as np\n",
    "import cv2\n",
    "import os\n",
    "import matplotlib.pyplot as plt\n",
    "from tqdm import tqdm\n",
    "\n",
    "def load_mask(path):\n",
    "    return cv2.imread(path, cv2.IMREAD_GRAYSCALE)\n",
    "\n",
    "def save_mask(path, mask):\n",
    "    cv2.imwrite(path, mask)\n",
    "    \n",
    "def invert_mask(mask):\n",
    "    return cv2.bitwise_not(mask)\n",
    "\n",
    "def join_masks(masks):  \n",
    "    mask = np.zeros_like(masks[0])\n",
    "    for m in masks:\n",
    "        mask = cv2.bitwise_or(mask, m)\n",
    "    return mask\n",
    "\n",
    "for view_id in tqdm(os.listdir(subfolder_instances_masks)):\n",
    "    view_folder = os.path.join(subfolder_instances_masks, view_id)\n",
    "    out_folder = os.path.join(subfolder_output, view_id, \"bg\")\n",
    "    os.makedirs(out_folder, exist_ok=True)\n",
    "    \n",
    "    masks_per_frame = {}    \n",
    "    for frame_pid in os.listdir(view_folder):\n",
    "        # j = '000000_0.png' 'frame_id_pid.png'\n",
    "        # join the masks with same frame_id\n",
    "        frame_id = frame_pid.split('_')[0]\n",
    "        masks_per_frame[frame_id] = masks_per_frame.get(frame_id, []) + [frame_pid]\n",
    "        \n",
    "    for frame_id, masks in masks_per_frame.items():\n",
    "        masks = [load_mask(os.path.join(view_folder, mask)) for mask in masks]\n",
    "        mask = join_masks(masks)\n",
    "        mask = invert_mask(mask)\n",
    "        \n",
    "        save_mask(os.path.join(out_folder, frame_id + '.png'), mask)"
   ]
  },
  {
   "cell_type": "code",
   "execution_count": null,
   "metadata": {},
   "outputs": [],
   "source": []
  }
 ],
 "metadata": {
  "kernelspec": {
   "display_name": "easymocap",
   "language": "python",
   "name": "python3"
  },
  "language_info": {
   "codemirror_mode": {
    "name": "ipython",
    "version": 3
   },
   "file_extension": ".py",
   "mimetype": "text/x-python",
   "name": "python",
   "nbconvert_exporter": "python",
   "pygments_lexer": "ipython3",
   "version": "3.9.19"
  }
 },
 "nbformat": 4,
 "nbformat_minor": 2
}
