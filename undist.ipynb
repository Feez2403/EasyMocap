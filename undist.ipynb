{
 "cells": [
  {
   "cell_type": "code",
   "execution_count": 8,
   "metadata": {},
   "outputs": [],
   "source": [
    "from easymocap.mytools.camera_utils import write_camera\n",
    "import numpy as np\n",
    "import json\n",
    "import os\n",
    "# cameras: dict\n",
    "\n",
    "calib_path = \"data/wildtrack/calibs\"\n",
    "\n",
    "cameras = {}\n",
    "\n",
    "for cam_id in range(1, 8):\n",
    "    with open(os.path.join(calib_path, f'calib_cam{cam_id}.json'), 'r') as f:\n",
    "        cameras[f'cam{cam_id}'] = json.load(f)\n",
    "        for key in cameras[f'cam{cam_id}']:\n",
    "            if key == \"T\":\n",
    "                cameras[f'cam{cam_id}'][key] = np.array([cameras[f'cam{cam_id}'][key]])\n",
    "            else:\n",
    "                cameras[f'cam{cam_id}'][key] = np.array(cameras[f'cam{cam_id}'][key])\n",
    "        cameras[f'cam{cam_id}'][\"dist\"] = np.zeros((5,1))\n",
    "path = \"data/wildtrack\"\n",
    "write_camera(cameras,path)"
   ]
  },
  {
   "cell_type": "code",
   "execution_count": null,
   "metadata": {},
   "outputs": [],
   "source": []
  }
 ],
 "metadata": {
  "kernelspec": {
   "display_name": "easymocap",
   "language": "python",
   "name": "python3"
  },
  "language_info": {
   "codemirror_mode": {
    "name": "ipython",
    "version": 3
   },
   "file_extension": ".py",
   "mimetype": "text/x-python",
   "name": "python",
   "nbconvert_exporter": "python",
   "pygments_lexer": "ipython3",
   "version": "3.9.19"
  }
 },
 "nbformat": 4,
 "nbformat_minor": 2
}
